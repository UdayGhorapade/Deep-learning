{
  "nbformat": 4,
  "nbformat_minor": 0,
  "metadata": {
    "colab": {
      "name": "Marks prediction (ANN).ipynb",
      "provenance": [],
      "authorship_tag": "ABX9TyMUq6OKr7rs77tem+/r2NNH",
      "include_colab_link": true
    },
    "kernelspec": {
      "name": "python3",
      "display_name": "Python 3"
    },
    "language_info": {
      "name": "python"
    }
  },
  "cells": [
    {
      "cell_type": "markdown",
      "metadata": {
        "id": "view-in-github",
        "colab_type": "text"
      },
      "source": [
        "<a href=\"https://colab.research.google.com/github/UdayGhorapade/Deep-learning/blob/main/Marks_prediction_(ANN).ipynb\" target=\"_parent\"><img src=\"https://colab.research.google.com/assets/colab-badge.svg\" alt=\"Open In Colab\"/></a>"
      ]
    },
    {
      "cell_type": "code",
      "source": [
        "import numpy as np\n",
        "import pandas as pd\n",
        "import matplotlib.pyplot as plt"
      ],
      "metadata": {
        "id": "hKrxJCe9rX3L"
      },
      "execution_count": 1,
      "outputs": []
    },
    {
      "cell_type": "code",
      "source": [
        "data = pd.read_csv(\"/content/marks.csv\")"
      ],
      "metadata": {
        "id": "yLOwf6wcrepL"
      },
      "execution_count": 2,
      "outputs": []
    },
    {
      "cell_type": "code",
      "source": [
        "data"
      ],
      "metadata": {
        "colab": {
          "base_uri": "https://localhost:8080/",
          "height": 332
        },
        "id": "Uhsj82Wqrmjw",
        "outputId": "8fb312f8-05d1-4ac3-8028-0e81fcad2626"
      },
      "execution_count": 3,
      "outputs": [
        {
          "output_type": "execute_result",
          "data": {
            "text/plain": [
              "   S1  S2  S3  S4  S5  S6  Total\n",
              "0  12  23  21  12  20  10     98\n",
              "1  10  10  11   9  11  20     71\n",
              "2  12  11  11  10  10   7     61\n",
              "3  23  21  12  20  11  23    110\n",
              "4  10  11   9  11  12  10     63\n",
              "5  12  11  11  12   9  11     66\n",
              "6  23  21  12   9  11  21     97\n",
              "7  12  11  11  21  12  11     78\n",
              "8  23  21  12  11   9  11     87"
            ],
            "text/html": [
              "\n",
              "  <div id=\"df-7d5d9a19-1cb7-4d13-9473-f70a959e0335\">\n",
              "    <div class=\"colab-df-container\">\n",
              "      <div>\n",
              "<style scoped>\n",
              "    .dataframe tbody tr th:only-of-type {\n",
              "        vertical-align: middle;\n",
              "    }\n",
              "\n",
              "    .dataframe tbody tr th {\n",
              "        vertical-align: top;\n",
              "    }\n",
              "\n",
              "    .dataframe thead th {\n",
              "        text-align: right;\n",
              "    }\n",
              "</style>\n",
              "<table border=\"1\" class=\"dataframe\">\n",
              "  <thead>\n",
              "    <tr style=\"text-align: right;\">\n",
              "      <th></th>\n",
              "      <th>S1</th>\n",
              "      <th>S2</th>\n",
              "      <th>S3</th>\n",
              "      <th>S4</th>\n",
              "      <th>S5</th>\n",
              "      <th>S6</th>\n",
              "      <th>Total</th>\n",
              "    </tr>\n",
              "  </thead>\n",
              "  <tbody>\n",
              "    <tr>\n",
              "      <th>0</th>\n",
              "      <td>12</td>\n",
              "      <td>23</td>\n",
              "      <td>21</td>\n",
              "      <td>12</td>\n",
              "      <td>20</td>\n",
              "      <td>10</td>\n",
              "      <td>98</td>\n",
              "    </tr>\n",
              "    <tr>\n",
              "      <th>1</th>\n",
              "      <td>10</td>\n",
              "      <td>10</td>\n",
              "      <td>11</td>\n",
              "      <td>9</td>\n",
              "      <td>11</td>\n",
              "      <td>20</td>\n",
              "      <td>71</td>\n",
              "    </tr>\n",
              "    <tr>\n",
              "      <th>2</th>\n",
              "      <td>12</td>\n",
              "      <td>11</td>\n",
              "      <td>11</td>\n",
              "      <td>10</td>\n",
              "      <td>10</td>\n",
              "      <td>7</td>\n",
              "      <td>61</td>\n",
              "    </tr>\n",
              "    <tr>\n",
              "      <th>3</th>\n",
              "      <td>23</td>\n",
              "      <td>21</td>\n",
              "      <td>12</td>\n",
              "      <td>20</td>\n",
              "      <td>11</td>\n",
              "      <td>23</td>\n",
              "      <td>110</td>\n",
              "    </tr>\n",
              "    <tr>\n",
              "      <th>4</th>\n",
              "      <td>10</td>\n",
              "      <td>11</td>\n",
              "      <td>9</td>\n",
              "      <td>11</td>\n",
              "      <td>12</td>\n",
              "      <td>10</td>\n",
              "      <td>63</td>\n",
              "    </tr>\n",
              "    <tr>\n",
              "      <th>5</th>\n",
              "      <td>12</td>\n",
              "      <td>11</td>\n",
              "      <td>11</td>\n",
              "      <td>12</td>\n",
              "      <td>9</td>\n",
              "      <td>11</td>\n",
              "      <td>66</td>\n",
              "    </tr>\n",
              "    <tr>\n",
              "      <th>6</th>\n",
              "      <td>23</td>\n",
              "      <td>21</td>\n",
              "      <td>12</td>\n",
              "      <td>9</td>\n",
              "      <td>11</td>\n",
              "      <td>21</td>\n",
              "      <td>97</td>\n",
              "    </tr>\n",
              "    <tr>\n",
              "      <th>7</th>\n",
              "      <td>12</td>\n",
              "      <td>11</td>\n",
              "      <td>11</td>\n",
              "      <td>21</td>\n",
              "      <td>12</td>\n",
              "      <td>11</td>\n",
              "      <td>78</td>\n",
              "    </tr>\n",
              "    <tr>\n",
              "      <th>8</th>\n",
              "      <td>23</td>\n",
              "      <td>21</td>\n",
              "      <td>12</td>\n",
              "      <td>11</td>\n",
              "      <td>9</td>\n",
              "      <td>11</td>\n",
              "      <td>87</td>\n",
              "    </tr>\n",
              "  </tbody>\n",
              "</table>\n",
              "</div>\n",
              "      <button class=\"colab-df-convert\" onclick=\"convertToInteractive('df-7d5d9a19-1cb7-4d13-9473-f70a959e0335')\"\n",
              "              title=\"Convert this dataframe to an interactive table.\"\n",
              "              style=\"display:none;\">\n",
              "        \n",
              "  <svg xmlns=\"http://www.w3.org/2000/svg\" height=\"24px\"viewBox=\"0 0 24 24\"\n",
              "       width=\"24px\">\n",
              "    <path d=\"M0 0h24v24H0V0z\" fill=\"none\"/>\n",
              "    <path d=\"M18.56 5.44l.94 2.06.94-2.06 2.06-.94-2.06-.94-.94-2.06-.94 2.06-2.06.94zm-11 1L8.5 8.5l.94-2.06 2.06-.94-2.06-.94L8.5 2.5l-.94 2.06-2.06.94zm10 10l.94 2.06.94-2.06 2.06-.94-2.06-.94-.94-2.06-.94 2.06-2.06.94z\"/><path d=\"M17.41 7.96l-1.37-1.37c-.4-.4-.92-.59-1.43-.59-.52 0-1.04.2-1.43.59L10.3 9.45l-7.72 7.72c-.78.78-.78 2.05 0 2.83L4 21.41c.39.39.9.59 1.41.59.51 0 1.02-.2 1.41-.59l7.78-7.78 2.81-2.81c.8-.78.8-2.07 0-2.86zM5.41 20L4 18.59l7.72-7.72 1.47 1.35L5.41 20z\"/>\n",
              "  </svg>\n",
              "      </button>\n",
              "      \n",
              "  <style>\n",
              "    .colab-df-container {\n",
              "      display:flex;\n",
              "      flex-wrap:wrap;\n",
              "      gap: 12px;\n",
              "    }\n",
              "\n",
              "    .colab-df-convert {\n",
              "      background-color: #E8F0FE;\n",
              "      border: none;\n",
              "      border-radius: 50%;\n",
              "      cursor: pointer;\n",
              "      display: none;\n",
              "      fill: #1967D2;\n",
              "      height: 32px;\n",
              "      padding: 0 0 0 0;\n",
              "      width: 32px;\n",
              "    }\n",
              "\n",
              "    .colab-df-convert:hover {\n",
              "      background-color: #E2EBFA;\n",
              "      box-shadow: 0px 1px 2px rgba(60, 64, 67, 0.3), 0px 1px 3px 1px rgba(60, 64, 67, 0.15);\n",
              "      fill: #174EA6;\n",
              "    }\n",
              "\n",
              "    [theme=dark] .colab-df-convert {\n",
              "      background-color: #3B4455;\n",
              "      fill: #D2E3FC;\n",
              "    }\n",
              "\n",
              "    [theme=dark] .colab-df-convert:hover {\n",
              "      background-color: #434B5C;\n",
              "      box-shadow: 0px 1px 3px 1px rgba(0, 0, 0, 0.15);\n",
              "      filter: drop-shadow(0px 1px 2px rgba(0, 0, 0, 0.3));\n",
              "      fill: #FFFFFF;\n",
              "    }\n",
              "  </style>\n",
              "\n",
              "      <script>\n",
              "        const buttonEl =\n",
              "          document.querySelector('#df-7d5d9a19-1cb7-4d13-9473-f70a959e0335 button.colab-df-convert');\n",
              "        buttonEl.style.display =\n",
              "          google.colab.kernel.accessAllowed ? 'block' : 'none';\n",
              "\n",
              "        async function convertToInteractive(key) {\n",
              "          const element = document.querySelector('#df-7d5d9a19-1cb7-4d13-9473-f70a959e0335');\n",
              "          const dataTable =\n",
              "            await google.colab.kernel.invokeFunction('convertToInteractive',\n",
              "                                                     [key], {});\n",
              "          if (!dataTable) return;\n",
              "\n",
              "          const docLinkHtml = 'Like what you see? Visit the ' +\n",
              "            '<a target=\"_blank\" href=https://colab.research.google.com/notebooks/data_table.ipynb>data table notebook</a>'\n",
              "            + ' to learn more about interactive tables.';\n",
              "          element.innerHTML = '';\n",
              "          dataTable['output_type'] = 'display_data';\n",
              "          await google.colab.output.renderOutput(dataTable, element);\n",
              "          const docLink = document.createElement('div');\n",
              "          docLink.innerHTML = docLinkHtml;\n",
              "          element.appendChild(docLink);\n",
              "        }\n",
              "      </script>\n",
              "    </div>\n",
              "  </div>\n",
              "  "
            ]
          },
          "metadata": {},
          "execution_count": 3
        }
      ]
    },
    {
      "cell_type": "code",
      "source": [
        "data[\"Result\"] = [\"Pass\" if Total >=80 else \"Fail\" for Total in data[\"Total\"]]"
      ],
      "metadata": {
        "id": "Ol65kycvrtYD"
      },
      "execution_count": 4,
      "outputs": []
    },
    {
      "cell_type": "code",
      "source": [
        "data"
      ],
      "metadata": {
        "colab": {
          "base_uri": "https://localhost:8080/",
          "height": 332
        },
        "id": "GfGij_ZxrwKe",
        "outputId": "6c7be834-753c-4ae1-fa7f-e2c5a7c16de0"
      },
      "execution_count": 5,
      "outputs": [
        {
          "output_type": "execute_result",
          "data": {
            "text/plain": [
              "   S1  S2  S3  S4  S5  S6  Total Result\n",
              "0  12  23  21  12  20  10     98   Pass\n",
              "1  10  10  11   9  11  20     71   Fail\n",
              "2  12  11  11  10  10   7     61   Fail\n",
              "3  23  21  12  20  11  23    110   Pass\n",
              "4  10  11   9  11  12  10     63   Fail\n",
              "5  12  11  11  12   9  11     66   Fail\n",
              "6  23  21  12   9  11  21     97   Pass\n",
              "7  12  11  11  21  12  11     78   Fail\n",
              "8  23  21  12  11   9  11     87   Pass"
            ],
            "text/html": [
              "\n",
              "  <div id=\"df-b1d2eca9-16a0-40ba-8dc6-a354b4144ce8\">\n",
              "    <div class=\"colab-df-container\">\n",
              "      <div>\n",
              "<style scoped>\n",
              "    .dataframe tbody tr th:only-of-type {\n",
              "        vertical-align: middle;\n",
              "    }\n",
              "\n",
              "    .dataframe tbody tr th {\n",
              "        vertical-align: top;\n",
              "    }\n",
              "\n",
              "    .dataframe thead th {\n",
              "        text-align: right;\n",
              "    }\n",
              "</style>\n",
              "<table border=\"1\" class=\"dataframe\">\n",
              "  <thead>\n",
              "    <tr style=\"text-align: right;\">\n",
              "      <th></th>\n",
              "      <th>S1</th>\n",
              "      <th>S2</th>\n",
              "      <th>S3</th>\n",
              "      <th>S4</th>\n",
              "      <th>S5</th>\n",
              "      <th>S6</th>\n",
              "      <th>Total</th>\n",
              "      <th>Result</th>\n",
              "    </tr>\n",
              "  </thead>\n",
              "  <tbody>\n",
              "    <tr>\n",
              "      <th>0</th>\n",
              "      <td>12</td>\n",
              "      <td>23</td>\n",
              "      <td>21</td>\n",
              "      <td>12</td>\n",
              "      <td>20</td>\n",
              "      <td>10</td>\n",
              "      <td>98</td>\n",
              "      <td>Pass</td>\n",
              "    </tr>\n",
              "    <tr>\n",
              "      <th>1</th>\n",
              "      <td>10</td>\n",
              "      <td>10</td>\n",
              "      <td>11</td>\n",
              "      <td>9</td>\n",
              "      <td>11</td>\n",
              "      <td>20</td>\n",
              "      <td>71</td>\n",
              "      <td>Fail</td>\n",
              "    </tr>\n",
              "    <tr>\n",
              "      <th>2</th>\n",
              "      <td>12</td>\n",
              "      <td>11</td>\n",
              "      <td>11</td>\n",
              "      <td>10</td>\n",
              "      <td>10</td>\n",
              "      <td>7</td>\n",
              "      <td>61</td>\n",
              "      <td>Fail</td>\n",
              "    </tr>\n",
              "    <tr>\n",
              "      <th>3</th>\n",
              "      <td>23</td>\n",
              "      <td>21</td>\n",
              "      <td>12</td>\n",
              "      <td>20</td>\n",
              "      <td>11</td>\n",
              "      <td>23</td>\n",
              "      <td>110</td>\n",
              "      <td>Pass</td>\n",
              "    </tr>\n",
              "    <tr>\n",
              "      <th>4</th>\n",
              "      <td>10</td>\n",
              "      <td>11</td>\n",
              "      <td>9</td>\n",
              "      <td>11</td>\n",
              "      <td>12</td>\n",
              "      <td>10</td>\n",
              "      <td>63</td>\n",
              "      <td>Fail</td>\n",
              "    </tr>\n",
              "    <tr>\n",
              "      <th>5</th>\n",
              "      <td>12</td>\n",
              "      <td>11</td>\n",
              "      <td>11</td>\n",
              "      <td>12</td>\n",
              "      <td>9</td>\n",
              "      <td>11</td>\n",
              "      <td>66</td>\n",
              "      <td>Fail</td>\n",
              "    </tr>\n",
              "    <tr>\n",
              "      <th>6</th>\n",
              "      <td>23</td>\n",
              "      <td>21</td>\n",
              "      <td>12</td>\n",
              "      <td>9</td>\n",
              "      <td>11</td>\n",
              "      <td>21</td>\n",
              "      <td>97</td>\n",
              "      <td>Pass</td>\n",
              "    </tr>\n",
              "    <tr>\n",
              "      <th>7</th>\n",
              "      <td>12</td>\n",
              "      <td>11</td>\n",
              "      <td>11</td>\n",
              "      <td>21</td>\n",
              "      <td>12</td>\n",
              "      <td>11</td>\n",
              "      <td>78</td>\n",
              "      <td>Fail</td>\n",
              "    </tr>\n",
              "    <tr>\n",
              "      <th>8</th>\n",
              "      <td>23</td>\n",
              "      <td>21</td>\n",
              "      <td>12</td>\n",
              "      <td>11</td>\n",
              "      <td>9</td>\n",
              "      <td>11</td>\n",
              "      <td>87</td>\n",
              "      <td>Pass</td>\n",
              "    </tr>\n",
              "  </tbody>\n",
              "</table>\n",
              "</div>\n",
              "      <button class=\"colab-df-convert\" onclick=\"convertToInteractive('df-b1d2eca9-16a0-40ba-8dc6-a354b4144ce8')\"\n",
              "              title=\"Convert this dataframe to an interactive table.\"\n",
              "              style=\"display:none;\">\n",
              "        \n",
              "  <svg xmlns=\"http://www.w3.org/2000/svg\" height=\"24px\"viewBox=\"0 0 24 24\"\n",
              "       width=\"24px\">\n",
              "    <path d=\"M0 0h24v24H0V0z\" fill=\"none\"/>\n",
              "    <path d=\"M18.56 5.44l.94 2.06.94-2.06 2.06-.94-2.06-.94-.94-2.06-.94 2.06-2.06.94zm-11 1L8.5 8.5l.94-2.06 2.06-.94-2.06-.94L8.5 2.5l-.94 2.06-2.06.94zm10 10l.94 2.06.94-2.06 2.06-.94-2.06-.94-.94-2.06-.94 2.06-2.06.94z\"/><path d=\"M17.41 7.96l-1.37-1.37c-.4-.4-.92-.59-1.43-.59-.52 0-1.04.2-1.43.59L10.3 9.45l-7.72 7.72c-.78.78-.78 2.05 0 2.83L4 21.41c.39.39.9.59 1.41.59.51 0 1.02-.2 1.41-.59l7.78-7.78 2.81-2.81c.8-.78.8-2.07 0-2.86zM5.41 20L4 18.59l7.72-7.72 1.47 1.35L5.41 20z\"/>\n",
              "  </svg>\n",
              "      </button>\n",
              "      \n",
              "  <style>\n",
              "    .colab-df-container {\n",
              "      display:flex;\n",
              "      flex-wrap:wrap;\n",
              "      gap: 12px;\n",
              "    }\n",
              "\n",
              "    .colab-df-convert {\n",
              "      background-color: #E8F0FE;\n",
              "      border: none;\n",
              "      border-radius: 50%;\n",
              "      cursor: pointer;\n",
              "      display: none;\n",
              "      fill: #1967D2;\n",
              "      height: 32px;\n",
              "      padding: 0 0 0 0;\n",
              "      width: 32px;\n",
              "    }\n",
              "\n",
              "    .colab-df-convert:hover {\n",
              "      background-color: #E2EBFA;\n",
              "      box-shadow: 0px 1px 2px rgba(60, 64, 67, 0.3), 0px 1px 3px 1px rgba(60, 64, 67, 0.15);\n",
              "      fill: #174EA6;\n",
              "    }\n",
              "\n",
              "    [theme=dark] .colab-df-convert {\n",
              "      background-color: #3B4455;\n",
              "      fill: #D2E3FC;\n",
              "    }\n",
              "\n",
              "    [theme=dark] .colab-df-convert:hover {\n",
              "      background-color: #434B5C;\n",
              "      box-shadow: 0px 1px 3px 1px rgba(0, 0, 0, 0.15);\n",
              "      filter: drop-shadow(0px 1px 2px rgba(0, 0, 0, 0.3));\n",
              "      fill: #FFFFFF;\n",
              "    }\n",
              "  </style>\n",
              "\n",
              "      <script>\n",
              "        const buttonEl =\n",
              "          document.querySelector('#df-b1d2eca9-16a0-40ba-8dc6-a354b4144ce8 button.colab-df-convert');\n",
              "        buttonEl.style.display =\n",
              "          google.colab.kernel.accessAllowed ? 'block' : 'none';\n",
              "\n",
              "        async function convertToInteractive(key) {\n",
              "          const element = document.querySelector('#df-b1d2eca9-16a0-40ba-8dc6-a354b4144ce8');\n",
              "          const dataTable =\n",
              "            await google.colab.kernel.invokeFunction('convertToInteractive',\n",
              "                                                     [key], {});\n",
              "          if (!dataTable) return;\n",
              "\n",
              "          const docLinkHtml = 'Like what you see? Visit the ' +\n",
              "            '<a target=\"_blank\" href=https://colab.research.google.com/notebooks/data_table.ipynb>data table notebook</a>'\n",
              "            + ' to learn more about interactive tables.';\n",
              "          element.innerHTML = '';\n",
              "          dataTable['output_type'] = 'display_data';\n",
              "          await google.colab.output.renderOutput(dataTable, element);\n",
              "          const docLink = document.createElement('div');\n",
              "          docLink.innerHTML = docLinkHtml;\n",
              "          element.appendChild(docLink);\n",
              "        }\n",
              "      </script>\n",
              "    </div>\n",
              "  </div>\n",
              "  "
            ]
          },
          "metadata": {},
          "execution_count": 5
        }
      ]
    },
    {
      "cell_type": "code",
      "source": [
        "data['Result'] = data['Result'].replace(\"Fail\", 0)\n",
        "data['Result'] = data['Result'].replace(\"Pass\", 1)"
      ],
      "metadata": {
        "id": "Os-3x-pCr1kx"
      },
      "execution_count": 6,
      "outputs": []
    },
    {
      "cell_type": "code",
      "source": [
        "data"
      ],
      "metadata": {
        "colab": {
          "base_uri": "https://localhost:8080/",
          "height": 332
        },
        "id": "By9du3tsr4tU",
        "outputId": "548ec6f7-139f-4787-f8ca-ee1e99235da4"
      },
      "execution_count": 7,
      "outputs": [
        {
          "output_type": "execute_result",
          "data": {
            "text/plain": [
              "   S1  S2  S3  S4  S5  S6  Total  Result\n",
              "0  12  23  21  12  20  10     98       1\n",
              "1  10  10  11   9  11  20     71       0\n",
              "2  12  11  11  10  10   7     61       0\n",
              "3  23  21  12  20  11  23    110       1\n",
              "4  10  11   9  11  12  10     63       0\n",
              "5  12  11  11  12   9  11     66       0\n",
              "6  23  21  12   9  11  21     97       1\n",
              "7  12  11  11  21  12  11     78       0\n",
              "8  23  21  12  11   9  11     87       1"
            ],
            "text/html": [
              "\n",
              "  <div id=\"df-3854d8c7-5645-49ab-a7c7-79e46bdd54cc\">\n",
              "    <div class=\"colab-df-container\">\n",
              "      <div>\n",
              "<style scoped>\n",
              "    .dataframe tbody tr th:only-of-type {\n",
              "        vertical-align: middle;\n",
              "    }\n",
              "\n",
              "    .dataframe tbody tr th {\n",
              "        vertical-align: top;\n",
              "    }\n",
              "\n",
              "    .dataframe thead th {\n",
              "        text-align: right;\n",
              "    }\n",
              "</style>\n",
              "<table border=\"1\" class=\"dataframe\">\n",
              "  <thead>\n",
              "    <tr style=\"text-align: right;\">\n",
              "      <th></th>\n",
              "      <th>S1</th>\n",
              "      <th>S2</th>\n",
              "      <th>S3</th>\n",
              "      <th>S4</th>\n",
              "      <th>S5</th>\n",
              "      <th>S6</th>\n",
              "      <th>Total</th>\n",
              "      <th>Result</th>\n",
              "    </tr>\n",
              "  </thead>\n",
              "  <tbody>\n",
              "    <tr>\n",
              "      <th>0</th>\n",
              "      <td>12</td>\n",
              "      <td>23</td>\n",
              "      <td>21</td>\n",
              "      <td>12</td>\n",
              "      <td>20</td>\n",
              "      <td>10</td>\n",
              "      <td>98</td>\n",
              "      <td>1</td>\n",
              "    </tr>\n",
              "    <tr>\n",
              "      <th>1</th>\n",
              "      <td>10</td>\n",
              "      <td>10</td>\n",
              "      <td>11</td>\n",
              "      <td>9</td>\n",
              "      <td>11</td>\n",
              "      <td>20</td>\n",
              "      <td>71</td>\n",
              "      <td>0</td>\n",
              "    </tr>\n",
              "    <tr>\n",
              "      <th>2</th>\n",
              "      <td>12</td>\n",
              "      <td>11</td>\n",
              "      <td>11</td>\n",
              "      <td>10</td>\n",
              "      <td>10</td>\n",
              "      <td>7</td>\n",
              "      <td>61</td>\n",
              "      <td>0</td>\n",
              "    </tr>\n",
              "    <tr>\n",
              "      <th>3</th>\n",
              "      <td>23</td>\n",
              "      <td>21</td>\n",
              "      <td>12</td>\n",
              "      <td>20</td>\n",
              "      <td>11</td>\n",
              "      <td>23</td>\n",
              "      <td>110</td>\n",
              "      <td>1</td>\n",
              "    </tr>\n",
              "    <tr>\n",
              "      <th>4</th>\n",
              "      <td>10</td>\n",
              "      <td>11</td>\n",
              "      <td>9</td>\n",
              "      <td>11</td>\n",
              "      <td>12</td>\n",
              "      <td>10</td>\n",
              "      <td>63</td>\n",
              "      <td>0</td>\n",
              "    </tr>\n",
              "    <tr>\n",
              "      <th>5</th>\n",
              "      <td>12</td>\n",
              "      <td>11</td>\n",
              "      <td>11</td>\n",
              "      <td>12</td>\n",
              "      <td>9</td>\n",
              "      <td>11</td>\n",
              "      <td>66</td>\n",
              "      <td>0</td>\n",
              "    </tr>\n",
              "    <tr>\n",
              "      <th>6</th>\n",
              "      <td>23</td>\n",
              "      <td>21</td>\n",
              "      <td>12</td>\n",
              "      <td>9</td>\n",
              "      <td>11</td>\n",
              "      <td>21</td>\n",
              "      <td>97</td>\n",
              "      <td>1</td>\n",
              "    </tr>\n",
              "    <tr>\n",
              "      <th>7</th>\n",
              "      <td>12</td>\n",
              "      <td>11</td>\n",
              "      <td>11</td>\n",
              "      <td>21</td>\n",
              "      <td>12</td>\n",
              "      <td>11</td>\n",
              "      <td>78</td>\n",
              "      <td>0</td>\n",
              "    </tr>\n",
              "    <tr>\n",
              "      <th>8</th>\n",
              "      <td>23</td>\n",
              "      <td>21</td>\n",
              "      <td>12</td>\n",
              "      <td>11</td>\n",
              "      <td>9</td>\n",
              "      <td>11</td>\n",
              "      <td>87</td>\n",
              "      <td>1</td>\n",
              "    </tr>\n",
              "  </tbody>\n",
              "</table>\n",
              "</div>\n",
              "      <button class=\"colab-df-convert\" onclick=\"convertToInteractive('df-3854d8c7-5645-49ab-a7c7-79e46bdd54cc')\"\n",
              "              title=\"Convert this dataframe to an interactive table.\"\n",
              "              style=\"display:none;\">\n",
              "        \n",
              "  <svg xmlns=\"http://www.w3.org/2000/svg\" height=\"24px\"viewBox=\"0 0 24 24\"\n",
              "       width=\"24px\">\n",
              "    <path d=\"M0 0h24v24H0V0z\" fill=\"none\"/>\n",
              "    <path d=\"M18.56 5.44l.94 2.06.94-2.06 2.06-.94-2.06-.94-.94-2.06-.94 2.06-2.06.94zm-11 1L8.5 8.5l.94-2.06 2.06-.94-2.06-.94L8.5 2.5l-.94 2.06-2.06.94zm10 10l.94 2.06.94-2.06 2.06-.94-2.06-.94-.94-2.06-.94 2.06-2.06.94z\"/><path d=\"M17.41 7.96l-1.37-1.37c-.4-.4-.92-.59-1.43-.59-.52 0-1.04.2-1.43.59L10.3 9.45l-7.72 7.72c-.78.78-.78 2.05 0 2.83L4 21.41c.39.39.9.59 1.41.59.51 0 1.02-.2 1.41-.59l7.78-7.78 2.81-2.81c.8-.78.8-2.07 0-2.86zM5.41 20L4 18.59l7.72-7.72 1.47 1.35L5.41 20z\"/>\n",
              "  </svg>\n",
              "      </button>\n",
              "      \n",
              "  <style>\n",
              "    .colab-df-container {\n",
              "      display:flex;\n",
              "      flex-wrap:wrap;\n",
              "      gap: 12px;\n",
              "    }\n",
              "\n",
              "    .colab-df-convert {\n",
              "      background-color: #E8F0FE;\n",
              "      border: none;\n",
              "      border-radius: 50%;\n",
              "      cursor: pointer;\n",
              "      display: none;\n",
              "      fill: #1967D2;\n",
              "      height: 32px;\n",
              "      padding: 0 0 0 0;\n",
              "      width: 32px;\n",
              "    }\n",
              "\n",
              "    .colab-df-convert:hover {\n",
              "      background-color: #E2EBFA;\n",
              "      box-shadow: 0px 1px 2px rgba(60, 64, 67, 0.3), 0px 1px 3px 1px rgba(60, 64, 67, 0.15);\n",
              "      fill: #174EA6;\n",
              "    }\n",
              "\n",
              "    [theme=dark] .colab-df-convert {\n",
              "      background-color: #3B4455;\n",
              "      fill: #D2E3FC;\n",
              "    }\n",
              "\n",
              "    [theme=dark] .colab-df-convert:hover {\n",
              "      background-color: #434B5C;\n",
              "      box-shadow: 0px 1px 3px 1px rgba(0, 0, 0, 0.15);\n",
              "      filter: drop-shadow(0px 1px 2px rgba(0, 0, 0, 0.3));\n",
              "      fill: #FFFFFF;\n",
              "    }\n",
              "  </style>\n",
              "\n",
              "      <script>\n",
              "        const buttonEl =\n",
              "          document.querySelector('#df-3854d8c7-5645-49ab-a7c7-79e46bdd54cc button.colab-df-convert');\n",
              "        buttonEl.style.display =\n",
              "          google.colab.kernel.accessAllowed ? 'block' : 'none';\n",
              "\n",
              "        async function convertToInteractive(key) {\n",
              "          const element = document.querySelector('#df-3854d8c7-5645-49ab-a7c7-79e46bdd54cc');\n",
              "          const dataTable =\n",
              "            await google.colab.kernel.invokeFunction('convertToInteractive',\n",
              "                                                     [key], {});\n",
              "          if (!dataTable) return;\n",
              "\n",
              "          const docLinkHtml = 'Like what you see? Visit the ' +\n",
              "            '<a target=\"_blank\" href=https://colab.research.google.com/notebooks/data_table.ipynb>data table notebook</a>'\n",
              "            + ' to learn more about interactive tables.';\n",
              "          element.innerHTML = '';\n",
              "          dataTable['output_type'] = 'display_data';\n",
              "          await google.colab.output.renderOutput(dataTable, element);\n",
              "          const docLink = document.createElement('div');\n",
              "          docLink.innerHTML = docLinkHtml;\n",
              "          element.appendChild(docLink);\n",
              "        }\n",
              "      </script>\n",
              "    </div>\n",
              "  </div>\n",
              "  "
            ]
          },
          "metadata": {},
          "execution_count": 7
        }
      ]
    },
    {
      "cell_type": "code",
      "source": [
        "dataset=data.values"
      ],
      "metadata": {
        "id": "iAziAcoWr8--"
      },
      "execution_count": 14,
      "outputs": []
    },
    {
      "cell_type": "code",
      "source": [
        "dataset"
      ],
      "metadata": {
        "colab": {
          "base_uri": "https://localhost:8080/"
        },
        "id": "dmWqxu62s55H",
        "outputId": "a67c6455-9027-4a6a-b156-a2498ef8fdc7"
      },
      "execution_count": 15,
      "outputs": [
        {
          "output_type": "execute_result",
          "data": {
            "text/plain": [
              "array([[ 12,  23,  21,  12,  20,  10,  98,   1],\n",
              "       [ 10,  10,  11,   9,  11,  20,  71,   0],\n",
              "       [ 12,  11,  11,  10,  10,   7,  61,   0],\n",
              "       [ 23,  21,  12,  20,  11,  23, 110,   1],\n",
              "       [ 10,  11,   9,  11,  12,  10,  63,   0],\n",
              "       [ 12,  11,  11,  12,   9,  11,  66,   0],\n",
              "       [ 23,  21,  12,   9,  11,  21,  97,   1],\n",
              "       [ 12,  11,  11,  21,  12,  11,  78,   0],\n",
              "       [ 23,  21,  12,  11,   9,  11,  87,   1]])"
            ]
          },
          "metadata": {},
          "execution_count": 15
        }
      ]
    },
    {
      "cell_type": "code",
      "source": [
        "X = dataset[:,0:6]\n",
        "X"
      ],
      "metadata": {
        "colab": {
          "base_uri": "https://localhost:8080/"
        },
        "id": "FkEOOniQsCRZ",
        "outputId": "bd761ba7-4397-4be8-f01d-a365d9e33924"
      },
      "execution_count": 20,
      "outputs": [
        {
          "output_type": "execute_result",
          "data": {
            "text/plain": [
              "array([[12, 23, 21, 12, 20, 10],\n",
              "       [10, 10, 11,  9, 11, 20],\n",
              "       [12, 11, 11, 10, 10,  7],\n",
              "       [23, 21, 12, 20, 11, 23],\n",
              "       [10, 11,  9, 11, 12, 10],\n",
              "       [12, 11, 11, 12,  9, 11],\n",
              "       [23, 21, 12,  9, 11, 21],\n",
              "       [12, 11, 11, 21, 12, 11],\n",
              "       [23, 21, 12, 11,  9, 11]])"
            ]
          },
          "metadata": {},
          "execution_count": 20
        }
      ]
    },
    {
      "cell_type": "code",
      "source": [
        "Y = dataset[:,7]\n",
        "Y"
      ],
      "metadata": {
        "colab": {
          "base_uri": "https://localhost:8080/"
        },
        "id": "LLZp-ljbtwfb",
        "outputId": "8db723e0-48b6-4778-ee33-e007bb6011b5"
      },
      "execution_count": 21,
      "outputs": [
        {
          "output_type": "execute_result",
          "data": {
            "text/plain": [
              "array([1, 0, 0, 1, 0, 0, 1, 0, 1])"
            ]
          },
          "metadata": {},
          "execution_count": 21
        }
      ]
    },
    {
      "cell_type": "code",
      "source": [
        "from sklearn import preprocessing\n",
        "min_max_scaler = preprocessing.MinMaxScaler()\n",
        "X_scale = min_max_scaler.fit_transform(X)"
      ],
      "metadata": {
        "id": "Gio7PGfduCsJ"
      },
      "execution_count": 22,
      "outputs": []
    },
    {
      "cell_type": "code",
      "source": [
        "X_scale"
      ],
      "metadata": {
        "colab": {
          "base_uri": "https://localhost:8080/"
        },
        "id": "gqzEccxcuKn6",
        "outputId": "b17b1b7c-bb90-4c94-f98a-cac1edfd4021"
      },
      "execution_count": 24,
      "outputs": [
        {
          "output_type": "execute_result",
          "data": {
            "text/plain": [
              "array([[0.15384615, 1.        , 1.        , 0.25      , 1.        ,\n",
              "        0.1875    ],\n",
              "       [0.        , 0.        , 0.16666667, 0.        , 0.18181818,\n",
              "        0.8125    ],\n",
              "       [0.15384615, 0.07692308, 0.16666667, 0.08333333, 0.09090909,\n",
              "        0.        ],\n",
              "       [1.        , 0.84615385, 0.25      , 0.91666667, 0.18181818,\n",
              "        1.        ],\n",
              "       [0.        , 0.07692308, 0.        , 0.16666667, 0.27272727,\n",
              "        0.1875    ],\n",
              "       [0.15384615, 0.07692308, 0.16666667, 0.25      , 0.        ,\n",
              "        0.25      ],\n",
              "       [1.        , 0.84615385, 0.25      , 0.        , 0.18181818,\n",
              "        0.875     ],\n",
              "       [0.15384615, 0.07692308, 0.16666667, 1.        , 0.27272727,\n",
              "        0.25      ],\n",
              "       [1.        , 0.84615385, 0.25      , 0.16666667, 0.        ,\n",
              "        0.25      ]])"
            ]
          },
          "metadata": {},
          "execution_count": 24
        }
      ]
    },
    {
      "cell_type": "code",
      "source": [
        "from sklearn.model_selection import train_test_split\n",
        "X_train, X_val_and_test, Y_train, Y_val_and_test = train_test_split(X_scale, Y, test_size=0.3)\n",
        "X_val, X_test, Y_val, Y_test = train_test_split(X_val_and_test, Y_val_and_test, test_size=0.5)\n",
        "print(X_train.shape, X_val.shape, X_test.shape, Y_train.shape, Y_val.shape, Y_test.shape)"
      ],
      "metadata": {
        "colab": {
          "base_uri": "https://localhost:8080/"
        },
        "id": "epuhYH2NuWXd",
        "outputId": "ce37bd26-2f12-4b2f-9e38-d8eabfb2eb3f"
      },
      "execution_count": 47,
      "outputs": [
        {
          "output_type": "stream",
          "name": "stdout",
          "text": [
            "(6, 6) (1, 6) (2, 6) (6,) (1,) (2,)\n"
          ]
        }
      ]
    },
    {
      "cell_type": "code",
      "source": [
        "from keras.models import Sequential\n",
        "from keras.layers import Dense"
      ],
      "metadata": {
        "id": "PgMzV6rGu2bC"
      },
      "execution_count": 48,
      "outputs": []
    },
    {
      "cell_type": "code",
      "source": [
        "model = Sequential([\n",
        "    Dense(32, activation='relu', input_shape=(6,)),\n",
        "    Dense(32, activation='relu'),\n",
        "    Dense(1, activation='sigmoid'),\n",
        "])"
      ],
      "metadata": {
        "id": "dtEOg0-uu9aE"
      },
      "execution_count": 49,
      "outputs": []
    },
    {
      "cell_type": "code",
      "source": [
        "model.compile(optimizer='sgd',\n",
        "              loss='binary_crossentropy',\n",
        "              metrics=['accuracy'])"
      ],
      "metadata": {
        "id": "x-Y1l8PHvGn2"
      },
      "execution_count": 50,
      "outputs": []
    },
    {
      "cell_type": "code",
      "source": [
        "hist = model.fit(X_train, Y_train,\n",
        "          batch_size=32, epochs=50,\n",
        "          validation_data=(X_val, Y_val))"
      ],
      "metadata": {
        "colab": {
          "base_uri": "https://localhost:8080/"
        },
        "id": "o7AWWRfqvKtC",
        "outputId": "e26cc0b5-7d36-4b03-9c4d-9bcff0c0580a"
      },
      "execution_count": 52,
      "outputs": [
        {
          "output_type": "stream",
          "name": "stdout",
          "text": [
            "Epoch 1/50\n",
            "1/1 [==============================] - 0s 58ms/step - loss: 0.5799 - accuracy: 1.0000 - val_loss: 0.5618 - val_accuracy: 1.0000\n",
            "Epoch 2/50\n",
            "1/1 [==============================] - 0s 27ms/step - loss: 0.5787 - accuracy: 1.0000 - val_loss: 0.5606 - val_accuracy: 1.0000\n",
            "Epoch 3/50\n",
            "1/1 [==============================] - 0s 27ms/step - loss: 0.5776 - accuracy: 1.0000 - val_loss: 0.5596 - val_accuracy: 1.0000\n",
            "Epoch 4/50\n",
            "1/1 [==============================] - 0s 28ms/step - loss: 0.5764 - accuracy: 1.0000 - val_loss: 0.5585 - val_accuracy: 1.0000\n",
            "Epoch 5/50\n",
            "1/1 [==============================] - 0s 29ms/step - loss: 0.5752 - accuracy: 1.0000 - val_loss: 0.5575 - val_accuracy: 1.0000\n",
            "Epoch 6/50\n",
            "1/1 [==============================] - 0s 28ms/step - loss: 0.5740 - accuracy: 1.0000 - val_loss: 0.5564 - val_accuracy: 1.0000\n",
            "Epoch 7/50\n",
            "1/1 [==============================] - 0s 31ms/step - loss: 0.5728 - accuracy: 1.0000 - val_loss: 0.5553 - val_accuracy: 1.0000\n",
            "Epoch 8/50\n",
            "1/1 [==============================] - 0s 31ms/step - loss: 0.5716 - accuracy: 1.0000 - val_loss: 0.5541 - val_accuracy: 1.0000\n",
            "Epoch 9/50\n",
            "1/1 [==============================] - 0s 30ms/step - loss: 0.5704 - accuracy: 1.0000 - val_loss: 0.5531 - val_accuracy: 1.0000\n",
            "Epoch 10/50\n",
            "1/1 [==============================] - 0s 32ms/step - loss: 0.5692 - accuracy: 1.0000 - val_loss: 0.5520 - val_accuracy: 1.0000\n",
            "Epoch 11/50\n",
            "1/1 [==============================] - 0s 29ms/step - loss: 0.5680 - accuracy: 1.0000 - val_loss: 0.5509 - val_accuracy: 1.0000\n",
            "Epoch 12/50\n",
            "1/1 [==============================] - 0s 30ms/step - loss: 0.5668 - accuracy: 1.0000 - val_loss: 0.5499 - val_accuracy: 1.0000\n",
            "Epoch 13/50\n",
            "1/1 [==============================] - 0s 29ms/step - loss: 0.5656 - accuracy: 1.0000 - val_loss: 0.5487 - val_accuracy: 1.0000\n",
            "Epoch 14/50\n",
            "1/1 [==============================] - 0s 31ms/step - loss: 0.5644 - accuracy: 1.0000 - val_loss: 0.5476 - val_accuracy: 1.0000\n",
            "Epoch 15/50\n",
            "1/1 [==============================] - 0s 29ms/step - loss: 0.5632 - accuracy: 1.0000 - val_loss: 0.5466 - val_accuracy: 1.0000\n",
            "Epoch 16/50\n",
            "1/1 [==============================] - 0s 30ms/step - loss: 0.5620 - accuracy: 1.0000 - val_loss: 0.5455 - val_accuracy: 1.0000\n",
            "Epoch 17/50\n",
            "1/1 [==============================] - 0s 43ms/step - loss: 0.5608 - accuracy: 1.0000 - val_loss: 0.5445 - val_accuracy: 1.0000\n",
            "Epoch 18/50\n",
            "1/1 [==============================] - 0s 37ms/step - loss: 0.5596 - accuracy: 1.0000 - val_loss: 0.5434 - val_accuracy: 1.0000\n",
            "Epoch 19/50\n",
            "1/1 [==============================] - 0s 30ms/step - loss: 0.5584 - accuracy: 1.0000 - val_loss: 0.5424 - val_accuracy: 1.0000\n",
            "Epoch 20/50\n",
            "1/1 [==============================] - 0s 31ms/step - loss: 0.5572 - accuracy: 1.0000 - val_loss: 0.5412 - val_accuracy: 1.0000\n",
            "Epoch 21/50\n",
            "1/1 [==============================] - 0s 28ms/step - loss: 0.5560 - accuracy: 1.0000 - val_loss: 0.5402 - val_accuracy: 1.0000\n",
            "Epoch 22/50\n",
            "1/1 [==============================] - 0s 28ms/step - loss: 0.5547 - accuracy: 1.0000 - val_loss: 0.5392 - val_accuracy: 1.0000\n",
            "Epoch 23/50\n",
            "1/1 [==============================] - 0s 31ms/step - loss: 0.5534 - accuracy: 1.0000 - val_loss: 0.5382 - val_accuracy: 1.0000\n",
            "Epoch 24/50\n",
            "1/1 [==============================] - 0s 31ms/step - loss: 0.5521 - accuracy: 1.0000 - val_loss: 0.5372 - val_accuracy: 1.0000\n",
            "Epoch 25/50\n",
            "1/1 [==============================] - 0s 37ms/step - loss: 0.5508 - accuracy: 1.0000 - val_loss: 0.5361 - val_accuracy: 1.0000\n",
            "Epoch 26/50\n",
            "1/1 [==============================] - 0s 34ms/step - loss: 0.5495 - accuracy: 1.0000 - val_loss: 0.5351 - val_accuracy: 1.0000\n",
            "Epoch 27/50\n",
            "1/1 [==============================] - 0s 32ms/step - loss: 0.5482 - accuracy: 1.0000 - val_loss: 0.5341 - val_accuracy: 1.0000\n",
            "Epoch 28/50\n",
            "1/1 [==============================] - 0s 32ms/step - loss: 0.5469 - accuracy: 1.0000 - val_loss: 0.5333 - val_accuracy: 1.0000\n",
            "Epoch 29/50\n",
            "1/1 [==============================] - 0s 31ms/step - loss: 0.5456 - accuracy: 1.0000 - val_loss: 0.5322 - val_accuracy: 1.0000\n",
            "Epoch 30/50\n",
            "1/1 [==============================] - 0s 28ms/step - loss: 0.5443 - accuracy: 1.0000 - val_loss: 0.5313 - val_accuracy: 1.0000\n",
            "Epoch 31/50\n",
            "1/1 [==============================] - 0s 30ms/step - loss: 0.5430 - accuracy: 1.0000 - val_loss: 0.5304 - val_accuracy: 1.0000\n",
            "Epoch 32/50\n",
            "1/1 [==============================] - 0s 35ms/step - loss: 0.5417 - accuracy: 1.0000 - val_loss: 0.5295 - val_accuracy: 1.0000\n",
            "Epoch 33/50\n",
            "1/1 [==============================] - 0s 30ms/step - loss: 0.5404 - accuracy: 1.0000 - val_loss: 0.5287 - val_accuracy: 1.0000\n",
            "Epoch 34/50\n",
            "1/1 [==============================] - 0s 29ms/step - loss: 0.5391 - accuracy: 1.0000 - val_loss: 0.5277 - val_accuracy: 1.0000\n",
            "Epoch 35/50\n",
            "1/1 [==============================] - 0s 28ms/step - loss: 0.5378 - accuracy: 1.0000 - val_loss: 0.5269 - val_accuracy: 1.0000\n",
            "Epoch 36/50\n",
            "1/1 [==============================] - 0s 31ms/step - loss: 0.5365 - accuracy: 1.0000 - val_loss: 0.5259 - val_accuracy: 1.0000\n",
            "Epoch 37/50\n",
            "1/1 [==============================] - 0s 35ms/step - loss: 0.5352 - accuracy: 1.0000 - val_loss: 0.5251 - val_accuracy: 1.0000\n",
            "Epoch 38/50\n",
            "1/1 [==============================] - 0s 31ms/step - loss: 0.5339 - accuracy: 1.0000 - val_loss: 0.5242 - val_accuracy: 1.0000\n",
            "Epoch 39/50\n",
            "1/1 [==============================] - 0s 30ms/step - loss: 0.5327 - accuracy: 1.0000 - val_loss: 0.5233 - val_accuracy: 1.0000\n",
            "Epoch 40/50\n",
            "1/1 [==============================] - 0s 29ms/step - loss: 0.5314 - accuracy: 1.0000 - val_loss: 0.5224 - val_accuracy: 1.0000\n",
            "Epoch 41/50\n",
            "1/1 [==============================] - 0s 32ms/step - loss: 0.5301 - accuracy: 1.0000 - val_loss: 0.5216 - val_accuracy: 1.0000\n",
            "Epoch 42/50\n",
            "1/1 [==============================] - 0s 32ms/step - loss: 0.5288 - accuracy: 1.0000 - val_loss: 0.5207 - val_accuracy: 1.0000\n",
            "Epoch 43/50\n",
            "1/1 [==============================] - 0s 32ms/step - loss: 0.5276 - accuracy: 1.0000 - val_loss: 0.5199 - val_accuracy: 1.0000\n",
            "Epoch 44/50\n",
            "1/1 [==============================] - 0s 54ms/step - loss: 0.5263 - accuracy: 1.0000 - val_loss: 0.5190 - val_accuracy: 1.0000\n",
            "Epoch 45/50\n",
            "1/1 [==============================] - 0s 30ms/step - loss: 0.5250 - accuracy: 1.0000 - val_loss: 0.5181 - val_accuracy: 1.0000\n",
            "Epoch 46/50\n",
            "1/1 [==============================] - 0s 39ms/step - loss: 0.5238 - accuracy: 1.0000 - val_loss: 0.5170 - val_accuracy: 1.0000\n",
            "Epoch 47/50\n",
            "1/1 [==============================] - 0s 32ms/step - loss: 0.5226 - accuracy: 1.0000 - val_loss: 0.5162 - val_accuracy: 1.0000\n",
            "Epoch 48/50\n",
            "1/1 [==============================] - 0s 33ms/step - loss: 0.5213 - accuracy: 1.0000 - val_loss: 0.5153 - val_accuracy: 1.0000\n",
            "Epoch 49/50\n",
            "1/1 [==============================] - 0s 29ms/step - loss: 0.5201 - accuracy: 1.0000 - val_loss: 0.5143 - val_accuracy: 1.0000\n",
            "Epoch 50/50\n",
            "1/1 [==============================] - 0s 32ms/step - loss: 0.5189 - accuracy: 1.0000 - val_loss: 0.5135 - val_accuracy: 1.0000\n"
          ]
        }
      ]
    },
    {
      "cell_type": "code",
      "source": [
        "model.evaluate(X_test, Y_test)[1]"
      ],
      "metadata": {
        "colab": {
          "base_uri": "https://localhost:8080/"
        },
        "id": "WciYXELJwyZj",
        "outputId": "76046018-9eb7-498b-c715-c6effab9b02d"
      },
      "execution_count": 53,
      "outputs": [
        {
          "output_type": "stream",
          "name": "stdout",
          "text": [
            "1/1 [==============================] - 0s 101ms/step - loss: 0.6591 - accuracy: 1.0000\n"
          ]
        },
        {
          "output_type": "execute_result",
          "data": {
            "text/plain": [
              "1.0"
            ]
          },
          "metadata": {},
          "execution_count": 53
        }
      ]
    },
    {
      "cell_type": "code",
      "source": [
        "plt.plot(hist.history['loss'])\n",
        "plt.plot(hist.history['val_loss'])\n",
        "plt.title('Model loss')\n",
        "plt.ylabel('Loss')\n",
        "plt.xlabel('Epoch')\n",
        "plt.legend(['Train', 'Val'], loc='upper right')\n",
        "plt.show()"
      ],
      "metadata": {
        "colab": {
          "base_uri": "https://localhost:8080/",
          "height": 295
        },
        "id": "8ueyzzjtxFtO",
        "outputId": "14ed70da-0b66-45bc-9625-10f8a82bee12"
      },
      "execution_count": 54,
      "outputs": [
        {
          "output_type": "display_data",
          "data": {
            "text/plain": [
              "<Figure size 432x288 with 1 Axes>"
            ],
            "image/png": "[encoded data removed]"
          },
          "metadata": {
            "needs_background": "light"
          }
        }
      ]
    },
    {
      "cell_type": "code",
      "source": [
        "model_2 = Sequential([\n",
        "    Dense(1000, activation='relu', input_shape=(6,)),\n",
        "    Dense(1000, activation='relu'),\n",
        "    Dense(1000, activation='relu'),\n",
        "    Dense(1000, activation='relu'),\n",
        "    Dense(1, activation='sigmoid'),\n",
        "])\n",
        "\n",
        "model_2.compile(optimizer='adam',\n",
        "              loss='binary_crossentropy',\n",
        "              metrics=['accuracy'])\n",
        "              \n",
        "hist_2 = model_2.fit(X_train, Y_train,\n",
        "          batch_size=32, epochs=50,\n",
        "          validation_data=(X_val, Y_val))"
      ],
      "metadata": {
        "colab": {
          "base_uri": "https://localhost:8080/"
        },
        "id": "nojc_7I9xY9a",
        "outputId": "c7044aa4-a507-4811-ef82-b329801a7a31"
      },
      "execution_count": 55,
      "outputs": [
        {
          "output_type": "stream",
          "name": "stdout",
          "text": [
            "Epoch 1/50\n",
            "1/1 [==============================] - 1s 775ms/step - loss: 0.6939 - accuracy: 0.5000 - val_loss: 0.6926 - val_accuracy: 1.0000\n",
            "Epoch 2/50\n",
            "1/1 [==============================] - 0s 54ms/step - loss: 0.6308 - accuracy: 1.0000 - val_loss: 0.6809 - val_accuracy: 1.0000\n",
            "Epoch 3/50\n",
            "1/1 [==============================] - 0s 51ms/step - loss: 0.5244 - accuracy: 1.0000 - val_loss: 0.6122 - val_accuracy: 1.0000\n",
            "Epoch 4/50\n",
            "1/1 [==============================] - 0s 50ms/step - loss: 0.3755 - accuracy: 1.0000 - val_loss: 0.4826 - val_accuracy: 1.0000\n",
            "Epoch 5/50\n",
            "1/1 [==============================] - 0s 68ms/step - loss: 0.2233 - accuracy: 1.0000 - val_loss: 0.3043 - val_accuracy: 1.0000\n",
            "Epoch 6/50\n",
            "1/1 [==============================] - 0s 52ms/step - loss: 0.1070 - accuracy: 1.0000 - val_loss: 0.1297 - val_accuracy: 1.0000\n",
            "Epoch 7/50\n",
            "1/1 [==============================] - 0s 58ms/step - loss: 0.0401 - accuracy: 1.0000 - val_loss: 0.0345 - val_accuracy: 1.0000\n",
            "Epoch 8/50\n",
            "1/1 [==============================] - 0s 54ms/step - loss: 0.0113 - accuracy: 1.0000 - val_loss: 0.0061 - val_accuracy: 1.0000\n",
            "Epoch 9/50\n",
            "1/1 [==============================] - 0s 55ms/step - loss: 0.0025 - accuracy: 1.0000 - val_loss: 7.9344e-04 - val_accuracy: 1.0000\n",
            "Epoch 10/50\n",
            "1/1 [==============================] - 0s 58ms/step - loss: 4.8714e-04 - accuracy: 1.0000 - val_loss: 8.4488e-05 - val_accuracy: 1.0000\n",
            "Epoch 11/50\n",
            "1/1 [==============================] - 0s 55ms/step - loss: 9.8875e-05 - accuracy: 1.0000 - val_loss: 7.5688e-06 - val_accuracy: 1.0000\n",
            "Epoch 12/50\n",
            "1/1 [==============================] - 0s 52ms/step - loss: 2.2548e-05 - accuracy: 1.0000 - val_loss: 5.9054e-07 - val_accuracy: 1.0000\n",
            "Epoch 13/50\n",
            "1/1 [==============================] - 0s 52ms/step - loss: 5.9289e-06 - accuracy: 1.0000 - val_loss: 4.1450e-08 - val_accuracy: 1.0000\n",
            "Epoch 14/50\n",
            "1/1 [==============================] - 0s 52ms/step - loss: 1.8078e-06 - accuracy: 1.0000 - val_loss: 2.7005e-09 - val_accuracy: 1.0000\n",
            "Epoch 15/50\n",
            "1/1 [==============================] - 0s 53ms/step - loss: 6.1744e-07 - accuracy: 1.0000 - val_loss: 1.7012e-10 - val_accuracy: 1.0000\n",
            "Epoch 16/50\n",
            "1/1 [==============================] - 0s 52ms/step - loss: 2.3558e-07 - accuracy: 1.0000 - val_loss: 1.0730e-11 - val_accuracy: 1.0000\n",
            "Epoch 17/50\n",
            "1/1 [==============================] - 0s 54ms/step - loss: 1.0075e-07 - accuracy: 1.0000 - val_loss: 6.9280e-13 - val_accuracy: 1.0000\n",
            "Epoch 18/50\n",
            "1/1 [==============================] - 0s 50ms/step - loss: 4.8085e-08 - accuracy: 1.0000 - val_loss: 4.7214e-14 - val_accuracy: 1.0000\n",
            "Epoch 19/50\n",
            "1/1 [==============================] - 0s 53ms/step - loss: 2.5380e-08 - accuracy: 1.0000 - val_loss: 3.4564e-15 - val_accuracy: 1.0000\n",
            "Epoch 20/50\n",
            "1/1 [==============================] - 0s 53ms/step - loss: 1.4558e-08 - accuracy: 1.0000 - val_loss: 2.7630e-16 - val_accuracy: 1.0000\n",
            "Epoch 21/50\n",
            "1/1 [==============================] - 0s 53ms/step - loss: 8.9313e-09 - accuracy: 1.0000 - val_loss: 2.4242e-17 - val_accuracy: 1.0000\n",
            "Epoch 22/50\n",
            "1/1 [==============================] - 0s 51ms/step - loss: 5.8885e-09 - accuracy: 1.0000 - val_loss: 2.3660e-18 - val_accuracy: 1.0000\n",
            "Epoch 23/50\n",
            "1/1 [==============================] - 0s 56ms/step - loss: 4.0990e-09 - accuracy: 1.0000 - val_loss: 2.5760e-19 - val_accuracy: 1.0000\n",
            "Epoch 24/50\n",
            "1/1 [==============================] - 0s 58ms/step - loss: 3.0058e-09 - accuracy: 1.0000 - val_loss: 3.1465e-20 - val_accuracy: 1.0000\n",
            "Epoch 25/50\n",
            "1/1 [==============================] - 0s 73ms/step - loss: 2.2950e-09 - accuracy: 1.0000 - val_loss: 4.3127e-21 - val_accuracy: 1.0000\n",
            "Epoch 26/50\n",
            "1/1 [==============================] - 0s 55ms/step - loss: 1.8471e-09 - accuracy: 1.0000 - val_loss: 6.6486e-22 - val_accuracy: 1.0000\n",
            "Epoch 27/50\n",
            "1/1 [==============================] - 0s 65ms/step - loss: 1.5427e-09 - accuracy: 1.0000 - val_loss: 1.1508e-22 - val_accuracy: 1.0000\n",
            "Epoch 28/50\n",
            "1/1 [==============================] - 0s 55ms/step - loss: 1.3312e-09 - accuracy: 1.0000 - val_loss: 2.2291e-23 - val_accuracy: 1.0000\n",
            "Epoch 29/50\n",
            "1/1 [==============================] - 0s 55ms/step - loss: 1.1816e-09 - accuracy: 1.0000 - val_loss: 4.8149e-24 - val_accuracy: 1.0000\n",
            "Epoch 30/50\n",
            "1/1 [==============================] - 0s 64ms/step - loss: 1.0679e-09 - accuracy: 1.0000 - val_loss: 1.1557e-24 - val_accuracy: 1.0000\n",
            "Epoch 31/50\n",
            "1/1 [==============================] - 0s 51ms/step - loss: 9.8013e-10 - accuracy: 1.0000 - val_loss: 3.0688e-25 - val_accuracy: 1.0000\n",
            "Epoch 32/50\n",
            "1/1 [==============================] - 0s 52ms/step - loss: 9.1505e-10 - accuracy: 1.0000 - val_loss: 8.9681e-26 - val_accuracy: 1.0000\n",
            "Epoch 33/50\n",
            "1/1 [==============================] - 0s 50ms/step - loss: 8.7080e-10 - accuracy: 1.0000 - val_loss: 2.8716e-26 - val_accuracy: 1.0000\n",
            "Epoch 34/50\n",
            "1/1 [==============================] - 0s 53ms/step - loss: 8.3885e-10 - accuracy: 1.0000 - val_loss: 1.0024e-26 - val_accuracy: 1.0000\n",
            "Epoch 35/50\n",
            "1/1 [==============================] - 0s 53ms/step - loss: 8.1501e-10 - accuracy: 1.0000 - val_loss: 3.7951e-27 - val_accuracy: 1.0000\n",
            "Epoch 36/50\n",
            "1/1 [==============================] - 0s 51ms/step - loss: 8.0022e-10 - accuracy: 1.0000 - val_loss: 1.5492e-27 - val_accuracy: 1.0000\n",
            "Epoch 37/50\n",
            "1/1 [==============================] - 0s 57ms/step - loss: 7.9038e-10 - accuracy: 1.0000 - val_loss: 6.7904e-28 - val_accuracy: 1.0000\n",
            "Epoch 38/50\n",
            "1/1 [==============================] - 0s 55ms/step - loss: 7.8619e-10 - accuracy: 1.0000 - val_loss: 3.1809e-28 - val_accuracy: 1.0000\n",
            "Epoch 39/50\n",
            "1/1 [==============================] - 0s 57ms/step - loss: 7.8656e-10 - accuracy: 1.0000 - val_loss: 1.5851e-28 - val_accuracy: 1.0000\n",
            "Epoch 40/50\n",
            "1/1 [==============================] - 0s 52ms/step - loss: 7.8966e-10 - accuracy: 1.0000 - val_loss: 8.3655e-29 - val_accuracy: 1.0000\n",
            "Epoch 41/50\n",
            "1/1 [==============================] - 0s 57ms/step - loss: 7.9408e-10 - accuracy: 1.0000 - val_loss: 4.6571e-29 - val_accuracy: 1.0000\n",
            "Epoch 42/50\n",
            "1/1 [==============================] - 0s 49ms/step - loss: 7.9988e-10 - accuracy: 1.0000 - val_loss: 2.7233e-29 - val_accuracy: 1.0000\n",
            "Epoch 43/50\n",
            "1/1 [==============================] - 0s 52ms/step - loss: 8.0607e-10 - accuracy: 1.0000 - val_loss: 1.6665e-29 - val_accuracy: 1.0000\n",
            "Epoch 44/50\n",
            "1/1 [==============================] - 0s 74ms/step - loss: 8.1367e-10 - accuracy: 1.0000 - val_loss: 1.0632e-29 - val_accuracy: 1.0000\n",
            "Epoch 45/50\n",
            "1/1 [==============================] - 0s 53ms/step - loss: 8.2333e-10 - accuracy: 1.0000 - val_loss: 7.0491e-30 - val_accuracy: 1.0000\n",
            "Epoch 46/50\n",
            "1/1 [==============================] - 0s 51ms/step - loss: 8.3277e-10 - accuracy: 1.0000 - val_loss: 4.8412e-30 - val_accuracy: 1.0000\n",
            "Epoch 47/50\n",
            "1/1 [==============================] - 0s 54ms/step - loss: 8.4209e-10 - accuracy: 1.0000 - val_loss: 3.4354e-30 - val_accuracy: 1.0000\n",
            "Epoch 48/50\n",
            "1/1 [==============================] - 0s 51ms/step - loss: 8.5171e-10 - accuracy: 1.0000 - val_loss: 2.5120e-30 - val_accuracy: 1.0000\n",
            "Epoch 49/50\n",
            "1/1 [==============================] - 0s 54ms/step - loss: 8.6161e-10 - accuracy: 1.0000 - val_loss: 1.8876e-30 - val_accuracy: 1.0000\n",
            "Epoch 50/50\n",
            "1/1 [==============================] - 0s 56ms/step - loss: 8.7112e-10 - accuracy: 1.0000 - val_loss: 1.4546e-30 - val_accuracy: 1.0000\n"
          ]
        }
      ]
    },
    {
      "cell_type": "code",
      "source": [
        "plt.plot(hist_2.history['loss'])\n",
        "plt.plot(hist_2.history['val_loss'])\n",
        "plt.title('Model loss')\n",
        "plt.ylabel('Loss')\n",
        "plt.xlabel('Epoch')\n",
        "plt.legend(['Train', 'Val'], loc='upper right')\n",
        "plt.show()"
      ],
      "metadata": {
        "colab": {
          "base_uri": "https://localhost:8080/",
          "height": 295
        },
        "id": "Zjgv2chUxmM5",
        "outputId": "d1477db8-b76e-4aaa-9a5b-049733aa18c6"
      },
      "execution_count": 56,
      "outputs": [
        {
          "output_type": "display_data",
          "data": {
            "text/plain": [
              "<Figure size 432x288 with 1 Axes>"
            ],
            "image/png": "[encoded data removed]"
          },
          "metadata": {
            "needs_background": "light"
          }
        }
      ]
    },
    {
      "cell_type": "code",
      "source": [
        "from keras.layers import Dropout\n",
        "from keras import regularizers\n",
        "\n",
        "model_3 = Sequential([\n",
        "    Dense(1000, activation='relu', kernel_regularizer=regularizers.l2(0.01), input_shape=(6,)),\n",
        "    Dropout(0.3),\n",
        "    Dense(1000, activation='relu', kernel_regularizer=regularizers.l2(0.01)),\n",
        "    Dropout(0.3),\n",
        "    Dense(1000, activation='relu', kernel_regularizer=regularizers.l2(0.01)),\n",
        "    Dropout(0.3),\n",
        "    Dense(1000, activation='relu', kernel_regularizer=regularizers.l2(0.01)),\n",
        "    Dropout(0.3),\n",
        "    Dense(1, activation='sigmoid', kernel_regularizer=regularizers.l2(0.01)),\n",
        "])"
      ],
      "metadata": {
        "id": "koJaRNn9x3gF"
      },
      "execution_count": 58,
      "outputs": []
    },
    {
      "cell_type": "code",
      "source": [
        "model_3 = Sequential([\n",
        "    Dense(1000, activation='relu', kernel_regularizer=regularizers.l2(0.01), input_shape=(6,)),\n",
        "    Dropout(0.3),\n",
        "    Dense(1000, activation='relu', kernel_regularizer=regularizers.l2(0.01)),\n",
        "    Dropout(0.3),\n",
        "    Dense(1000, activation='relu', kernel_regularizer=regularizers.l2(0.01)),\n",
        "    Dropout(0.3),\n",
        "    Dense(1000, activation='relu', kernel_regularizer=regularizers.l2(0.01)),\n",
        "    Dropout(0.3),\n",
        "    Dense(1, activation='sigmoid', kernel_regularizer=regularizers.l2(0.01)),\n",
        "])"
      ],
      "metadata": {
        "id": "YFjb2kRGyMJm"
      },
      "execution_count": 59,
      "outputs": []
    },
    {
      "cell_type": "code",
      "source": [
        "model_3.compile(optimizer='adam',\n",
        "              loss='binary_crossentropy',\n",
        "              metrics=['accuracy'])\n",
        "              \n",
        "hist_3 = model_3.fit(X_train, Y_train,\n",
        "          batch_size=32, epochs=50,\n",
        "          validation_data=(X_val, Y_val))"
      ],
      "metadata": {
        "colab": {
          "base_uri": "https://localhost:8080/"
        },
        "id": "I1Nj7mduySS9",
        "outputId": "25bca8be-f23c-4e42-c376-98d648baa5d1"
      },
      "execution_count": 60,
      "outputs": [
        {
          "output_type": "stream",
          "name": "stdout",
          "text": [
            "Epoch 1/50\n",
            "1/1 [==============================] - 1s 1s/step - loss: 30.8460 - accuracy: 0.5000 - val_loss: 29.2992 - val_accuracy: 1.0000\n",
            "Epoch 2/50\n",
            "1/1 [==============================] - 0s 67ms/step - loss: 29.2999 - accuracy: 0.6667 - val_loss: 27.8053 - val_accuracy: 1.0000\n",
            "Epoch 3/50\n",
            "1/1 [==============================] - 0s 64ms/step - loss: 27.8017 - accuracy: 0.8333 - val_loss: 26.3666 - val_accuracy: 1.0000\n",
            "Epoch 4/50\n",
            "1/1 [==============================] - 0s 78ms/step - loss: 26.3557 - accuracy: 0.8333 - val_loss: 24.9854 - val_accuracy: 1.0000\n",
            "Epoch 5/50\n",
            "1/1 [==============================] - 0s 66ms/step - loss: 24.9635 - accuracy: 1.0000 - val_loss: 23.6577 - val_accuracy: 1.0000\n",
            "Epoch 6/50\n",
            "1/1 [==============================] - 0s 65ms/step - loss: 23.6203 - accuracy: 1.0000 - val_loss: 22.3822 - val_accuracy: 1.0000\n",
            "Epoch 7/50\n",
            "1/1 [==============================] - 0s 75ms/step - loss: 22.3398 - accuracy: 0.8333 - val_loss: 21.1569 - val_accuracy: 1.0000\n",
            "Epoch 8/50\n",
            "1/1 [==============================] - 0s 65ms/step - loss: 21.0953 - accuracy: 1.0000 - val_loss: 19.9823 - val_accuracy: 1.0000\n",
            "Epoch 9/50\n",
            "1/1 [==============================] - 0s 65ms/step - loss: 19.8947 - accuracy: 1.0000 - val_loss: 18.8555 - val_accuracy: 1.0000\n",
            "Epoch 10/50\n",
            "1/1 [==============================] - 0s 64ms/step - loss: 18.7483 - accuracy: 1.0000 - val_loss: 17.7758 - val_accuracy: 1.0000\n",
            "Epoch 11/50\n",
            "1/1 [==============================] - 0s 63ms/step - loss: 17.6624 - accuracy: 1.0000 - val_loss: 16.7405 - val_accuracy: 1.0000\n",
            "Epoch 12/50\n",
            "1/1 [==============================] - 0s 68ms/step - loss: 16.6329 - accuracy: 1.0000 - val_loss: 15.7488 - val_accuracy: 1.0000\n",
            "Epoch 13/50\n",
            "1/1 [==============================] - 0s 68ms/step - loss: 15.6165 - accuracy: 1.0000 - val_loss: 14.7982 - val_accuracy: 1.0000\n",
            "Epoch 14/50\n",
            "1/1 [==============================] - 0s 65ms/step - loss: 14.6782 - accuracy: 1.0000 - val_loss: 13.8849 - val_accuracy: 1.0000\n",
            "Epoch 15/50\n",
            "1/1 [==============================] - 0s 68ms/step - loss: 13.7372 - accuracy: 1.0000 - val_loss: 13.0117 - val_accuracy: 1.0000\n",
            "Epoch 16/50\n",
            "1/1 [==============================] - 0s 62ms/step - loss: 12.8679 - accuracy: 1.0000 - val_loss: 12.1781 - val_accuracy: 1.0000\n",
            "Epoch 17/50\n",
            "1/1 [==============================] - 0s 61ms/step - loss: 12.0401 - accuracy: 1.0000 - val_loss: 11.3822 - val_accuracy: 1.0000\n",
            "Epoch 18/50\n",
            "1/1 [==============================] - 0s 72ms/step - loss: 11.2582 - accuracy: 1.0000 - val_loss: 10.6256 - val_accuracy: 1.0000\n",
            "Epoch 19/50\n",
            "1/1 [==============================] - 0s 69ms/step - loss: 10.4884 - accuracy: 1.0000 - val_loss: 9.9040 - val_accuracy: 1.0000\n",
            "Epoch 20/50\n",
            "1/1 [==============================] - 0s 66ms/step - loss: 9.7965 - accuracy: 1.0000 - val_loss: 9.2175 - val_accuracy: 1.0000\n",
            "Epoch 21/50\n",
            "1/1 [==============================] - 0s 92ms/step - loss: 9.1314 - accuracy: 1.0000 - val_loss: 8.5686 - val_accuracy: 1.0000\n",
            "Epoch 22/50\n",
            "1/1 [==============================] - 0s 74ms/step - loss: 8.4813 - accuracy: 1.0000 - val_loss: 7.9600 - val_accuracy: 1.0000\n",
            "Epoch 23/50\n",
            "1/1 [==============================] - 0s 61ms/step - loss: 7.9075 - accuracy: 1.0000 - val_loss: 7.3913 - val_accuracy: 1.0000\n",
            "Epoch 24/50\n",
            "1/1 [==============================] - 0s 67ms/step - loss: 7.3448 - accuracy: 1.0000 - val_loss: 6.8612 - val_accuracy: 1.0000\n",
            "Epoch 25/50\n",
            "1/1 [==============================] - 0s 68ms/step - loss: 6.8298 - accuracy: 1.0000 - val_loss: 6.3697 - val_accuracy: 1.0000\n",
            "Epoch 26/50\n",
            "1/1 [==============================] - 0s 68ms/step - loss: 6.3508 - accuracy: 1.0000 - val_loss: 5.9123 - val_accuracy: 1.0000\n",
            "Epoch 27/50\n",
            "1/1 [==============================] - 0s 68ms/step - loss: 5.8976 - accuracy: 1.0000 - val_loss: 5.4867 - val_accuracy: 1.0000\n",
            "Epoch 28/50\n",
            "1/1 [==============================] - 0s 74ms/step - loss: 5.4744 - accuracy: 1.0000 - val_loss: 5.0885 - val_accuracy: 1.0000\n",
            "Epoch 29/50\n",
            "1/1 [==============================] - 0s 66ms/step - loss: 5.0823 - accuracy: 1.0000 - val_loss: 4.7169 - val_accuracy: 1.0000\n",
            "Epoch 30/50\n",
            "1/1 [==============================] - 0s 63ms/step - loss: 4.7093 - accuracy: 1.0000 - val_loss: 4.3690 - val_accuracy: 1.0000\n",
            "Epoch 31/50\n",
            "1/1 [==============================] - 0s 63ms/step - loss: 4.3572 - accuracy: 1.0000 - val_loss: 4.0428 - val_accuracy: 1.0000\n",
            "Epoch 32/50\n",
            "1/1 [==============================] - 0s 83ms/step - loss: 4.0333 - accuracy: 1.0000 - val_loss: 3.7378 - val_accuracy: 1.0000\n",
            "Epoch 33/50\n",
            "1/1 [==============================] - 0s 70ms/step - loss: 3.7241 - accuracy: 1.0000 - val_loss: 3.4524 - val_accuracy: 1.0000\n",
            "Epoch 34/50\n",
            "1/1 [==============================] - 0s 67ms/step - loss: 3.4387 - accuracy: 1.0000 - val_loss: 3.1854 - val_accuracy: 1.0000\n",
            "Epoch 35/50\n",
            "1/1 [==============================] - 0s 67ms/step - loss: 3.1702 - accuracy: 1.0000 - val_loss: 2.9363 - val_accuracy: 1.0000\n",
            "Epoch 36/50\n",
            "1/1 [==============================] - 0s 72ms/step - loss: 2.9206 - accuracy: 1.0000 - val_loss: 2.7039 - val_accuracy: 1.0000\n",
            "Epoch 37/50\n",
            "1/1 [==============================] - 0s 66ms/step - loss: 2.6891 - accuracy: 1.0000 - val_loss: 2.4884 - val_accuracy: 1.0000\n",
            "Epoch 38/50\n",
            "1/1 [==============================] - 0s 68ms/step - loss: 2.4759 - accuracy: 1.0000 - val_loss: 2.2885 - val_accuracy: 1.0000\n",
            "Epoch 39/50\n",
            "1/1 [==============================] - 0s 71ms/step - loss: 2.2741 - accuracy: 1.0000 - val_loss: 2.1027 - val_accuracy: 1.0000\n",
            "Epoch 40/50\n",
            "1/1 [==============================] - 0s 65ms/step - loss: 2.0883 - accuracy: 1.0000 - val_loss: 1.9309 - val_accuracy: 1.0000\n",
            "Epoch 41/50\n",
            "1/1 [==============================] - 0s 70ms/step - loss: 1.9293 - accuracy: 1.0000 - val_loss: 1.7749 - val_accuracy: 1.0000\n",
            "Epoch 42/50\n",
            "1/1 [==============================] - 0s 66ms/step - loss: 1.7727 - accuracy: 1.0000 - val_loss: 1.6336 - val_accuracy: 1.0000\n",
            "Epoch 43/50\n",
            "1/1 [==============================] - 0s 66ms/step - loss: 1.6222 - accuracy: 1.0000 - val_loss: 1.5047 - val_accuracy: 1.0000\n",
            "Epoch 44/50\n",
            "1/1 [==============================] - 0s 66ms/step - loss: 1.4980 - accuracy: 1.0000 - val_loss: 1.3885 - val_accuracy: 1.0000\n",
            "Epoch 45/50\n",
            "1/1 [==============================] - 0s 65ms/step - loss: 1.3730 - accuracy: 1.0000 - val_loss: 1.2809 - val_accuracy: 1.0000\n",
            "Epoch 46/50\n",
            "1/1 [==============================] - 0s 66ms/step - loss: 1.2661 - accuracy: 1.0000 - val_loss: 1.1803 - val_accuracy: 1.0000\n",
            "Epoch 47/50\n",
            "1/1 [==============================] - 0s 65ms/step - loss: 1.1819 - accuracy: 1.0000 - val_loss: 1.0866 - val_accuracy: 1.0000\n",
            "Epoch 48/50\n",
            "1/1 [==============================] - 0s 67ms/step - loss: 1.0797 - accuracy: 1.0000 - val_loss: 0.9982 - val_accuracy: 1.0000\n",
            "Epoch 49/50\n",
            "1/1 [==============================] - 0s 75ms/step - loss: 0.9833 - accuracy: 1.0000 - val_loss: 0.9170 - val_accuracy: 1.0000\n",
            "Epoch 50/50\n",
            "1/1 [==============================] - 0s 77ms/step - loss: 0.9112 - accuracy: 1.0000 - val_loss: 0.8444 - val_accuracy: 1.0000\n"
          ]
        }
      ]
    },
    {
      "cell_type": "code",
      "source": [
        "plt.plot(hist_3.history['loss'])\n",
        "plt.plot(hist_3.history['val_loss'])\n",
        "plt.title('Model loss')\n",
        "plt.ylabel('Loss')\n",
        "plt.xlabel('Epoch')\n",
        "plt.legend(['Train', 'Val'], loc='upper right')\n",
        "plt.show()"
      ],
      "metadata": {
        "colab": {
          "base_uri": "https://localhost:8080/",
          "height": 295
        },
        "id": "IPb2jQNEya7D",
        "outputId": "ffe2e5ca-80dd-44a7-b4b4-3fab873e000b"
      },
      "execution_count": 62,
      "outputs": [
        {
          "output_type": "display_data",
          "data": {
            "text/plain": [
              "<Figure size 432x288 with 1 Axes>"
            ],
            "image/png": "[encoded data removed]"
          },
          "metadata": {
            "needs_background": "light"
          }
        }
      ]
    }
  ]
}